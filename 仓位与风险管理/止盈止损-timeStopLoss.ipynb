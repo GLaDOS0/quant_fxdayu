{
 "cells": [
  {
   "cell_type": "markdown",
   "metadata": {},
   "source": [
    "### 止盈止损-时间止损\n",
    "1. 止损后停止交易时间(stopLossControl)\n",
    "2. 最长持有时间设置(holdHour)"
   ]
  },
  {
   "cell_type": "markdown",
   "metadata": {},
   "source": [
    "### 止损后停止交易时间 \n",
    "1. 设置停止交易时间\n",
    "2. 记录平仓时间\n",
    "3. 触发止损条件后，设置停止为1\n",
    "4. 计算平仓时间与当下时间的差，设置停止归0"
   ]
  },
  {
   "cell_type": "code",
   "execution_count": null,
   "metadata": {
    "collapsed": true
   },
   "outputs": [],
   "source": [
    "stopControlTime = 3\n",
    "\n",
    "self.closeTime = {s: 0 for s in self.symbolList}\n",
    "self.stopLossControl = {s: 0 for s in self.symbolList}\n",
    "\n",
    "if self.closeTime[symbol]:\n",
    "    if (bar.datetime - self.closeTime[symbol]) >= timedelta(hours=self.stopControlTime):\n",
    "        self.stopLossControl[symbol] = 0\n",
    "\n",
    "        \n",
    "def onTrade(self, trade):\n",
    "    \"\"\"收到成交推送（必须由用户继承实现）\"\"\"\n",
    "    symbol = trade.vtSymbol\n",
    "    if trade.offset == OFFSET_CLOSE:\n",
    "        self.closeTime[symbol] = trade.tradeTime"
   ]
  },
  {
   "cell_type": "code",
   "execution_count": null,
   "metadata": {
    "collapsed": true
   },
   "outputs": [],
   "source": []
  },
  {
   "cell_type": "code",
   "execution_count": null,
   "metadata": {
    "collapsed": true
   },
   "outputs": [],
   "source": [
    "holdHour = 30\n",
    "\n",
    "self.openTime = {s: None for s in self.symbolList}\n",
    "\n",
    "if self.openTime[symbol]:\n",
    "    if ((bar.datetime-self.openTime[symbol])>=timedelta(hours=self.holdHour)):\n",
    "        self.sell(symbol, bar.close * 0.98, self.posDict[symbol + '_LONG'])"
   ]
  }
 ],
 "metadata": {
  "kernelspec": {
   "display_name": "Python 3",
   "language": "python",
   "name": "python3"
  },
  "language_info": {
   "codemirror_mode": {
    "name": "ipython",
    "version": 3
   },
   "file_extension": ".py",
   "mimetype": "text/x-python",
   "name": "python",
   "nbconvert_exporter": "python",
   "pygments_lexer": "ipython3",
   "version": "3.6.4"
  }
 },
 "nbformat": 4,
 "nbformat_minor": 2
}
